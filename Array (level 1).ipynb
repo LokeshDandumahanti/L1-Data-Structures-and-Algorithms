{
 "cells": [
  {
   "cell_type": "markdown",
   "metadata": {},
   "source": [
    "# Array"
   ]
  },
  {
   "cell_type": "markdown",
   "metadata": {},
   "source": [
    "### 1. Two Sum\n",
    "Question: Given an array of integers and a target value, return indices of the two numbers such that they add up to the target."
   ]
  },
  {
   "cell_type": "code",
   "execution_count": 3,
   "metadata": {},
   "outputs": [
    {
     "name": "stdout",
     "output_type": "stream",
     "text": [
      "[0, 1]\n"
     ]
    }
   ],
   "source": [
    "def two_sum(nums, target):\n",
    "    num_map = {}\n",
    "    for i, num in enumerate(nums):\n",
    "        complement = target - num\n",
    "        if complement in num_map:\n",
    "            return [num_map[complement], i]\n",
    "        num_map[num] = i\n",
    "    return []\n",
    "\n",
    "# Usage\n",
    "nums = [2, 7, 11, 15]\n",
    "target = 9\n",
    "print(two_sum(nums, target))  # Output: [0, 1]\n"
   ]
  },
  {
   "cell_type": "markdown",
   "metadata": {},
   "source": [
    "### 2. Contains Duplicate\n",
    "Question: Given an array of integers, determine if any value appears at least twice."
   ]
  },
  {
   "cell_type": "code",
   "execution_count": 2,
   "metadata": {},
   "outputs": [
    {
     "name": "stdout",
     "output_type": "stream",
     "text": [
      "False\n"
     ]
    }
   ],
   "source": [
    "def contains_duplicate(nums):\n",
    "    return len(nums) != len(set(nums))\n",
    "\n",
    "# Usage\n",
    "nums = [1, 2, 3, 4, 5, 6]\n",
    "print(contains_duplicate(nums))  # Output: False\n"
   ]
  },
  {
   "cell_type": "markdown",
   "metadata": {},
   "source": [
    "### 3. Product of Array Except Self\n",
    "Question: Given an array of integers, return an array where each element is the product of all other elements except itself."
   ]
  },
  {
   "cell_type": "code",
   "execution_count": 4,
   "metadata": {},
   "outputs": [
    {
     "name": "stdout",
     "output_type": "stream",
     "text": [
      "[24, 12, 8, 6]\n"
     ]
    }
   ],
   "source": [
    "def product_except_self(nums):\n",
    "    n = len(nums)\n",
    "    result = [1] * n\n",
    "    left_product = 1\n",
    "    for i in range(1, n):\n",
    "        left_product *= nums[i - 1]\n",
    "        result[i] = left_product\n",
    "    \n",
    "    right_product = 1\n",
    "    for i in range(n - 2, -1, -1):\n",
    "        right_product *= nums[i + 1]\n",
    "        result[i] *= right_product\n",
    "    \n",
    "    return result\n",
    "\n",
    "# Usage\n",
    "nums = [1, 2, 3, 4]\n",
    "print(product_except_self(nums))  # Output: [24, 12, 8, 6]\n"
   ]
  },
  {
   "cell_type": "markdown",
   "metadata": {},
   "source": [
    "### 4. Maximum Subarray (Kadane's Algorithm)\n",
    "Question: Given an integer array, find the contiguous subarray (containing at least one number) which has the largest sum."
   ]
  },
  {
   "cell_type": "code",
   "execution_count": null,
   "metadata": {},
   "outputs": [],
   "source": [
    "def max_subarray(nums):\n",
    "    max_current = max_global = nums[0]\n",
    "    for num in nums[1:]:\n",
    "        max_current = max(num, max_current + num)\n",
    "        max_global = max(max_global, max_current)\n",
    "    return max_global\n",
    "\n",
    "# Usage\n",
    "nums = [-2, 1, -3, 4, -1, 2, 1, -5, 4]\n",
    "print(max_subarray(nums))  # Output: 6 (subarray [4, -1, 2, 1])"
   ]
  },
  {
   "cell_type": "markdown",
   "metadata": {},
   "source": [
    "### 5. Rotate Array\n",
    "Question: Given an array and a number k, rotate the array to the right by k steps."
   ]
  },
  {
   "cell_type": "code",
   "execution_count": null,
   "metadata": {},
   "outputs": [],
   "source": [
    "def rotate_array(nums, k):\n",
    "    n = len(nums)\n",
    "    k %= n\n",
    "    nums[:] = nums[-k:] + nums[:-k]\n",
    "\n",
    "# Usage\n",
    "nums = [1, 2, 3, 4, 5, 6, 7]\n",
    "k = 3\n",
    "rotate_array(nums, k)\n",
    "print(nums)  # Output: [5, 6, 7, 1, 2, 3, 4]"
   ]
  },
  {
   "cell_type": "markdown",
   "metadata": {},
   "source": [
    "### 6. Find the Duplicate Number\n",
    "Question: Given an array of integers where each integer is between 1 and n (inclusive) and there is exactly one duplicate, find the duplicate number"
   ]
  },
  {
   "cell_type": "code",
   "execution_count": null,
   "metadata": {},
   "outputs": [],
   "source": [
    "def find_duplicate(nums):\n",
    "    slow = fast = nums[0]\n",
    "    while True:\n",
    "        slow = nums[slow]\n",
    "        fast = nums[nums[fast]]\n",
    "        if slow == fast:\n",
    "            break\n",
    "    \n",
    "    slow = nums[0]\n",
    "    while slow != fast:\n",
    "        slow = nums[slow]\n",
    "        fast = nums[fast]\n",
    "    \n",
    "    return slow\n",
    "\n",
    "# Usage\n",
    "nums = [1, 3, 4, 2, 2]\n",
    "print(find_duplicate(nums))  # Output: 2\n"
   ]
  },
  {
   "cell_type": "markdown",
   "metadata": {},
   "source": [
    "### 7. Merge Intervals\n",
    "Question: Given a collection of intervals, merge all overlapping intervals."
   ]
  },
  {
   "cell_type": "code",
   "execution_count": null,
   "metadata": {},
   "outputs": [],
   "source": [
    "def merge_intervals(intervals):\n",
    "    if not intervals:\n",
    "        return []\n",
    "    \n",
    "    intervals.sort(key=lambda x: x[0])\n",
    "    merged = [intervals[0]]\n",
    "    \n",
    "    for current in intervals[1:]:\n",
    "        last_merged = merged[-1]\n",
    "        if current[0] <= last_merged[1]:\n",
    "            last_merged[1] = max(last_merged[1], current[1])\n",
    "        else:\n",
    "            merged.append(current)\n",
    "    \n",
    "    return merged\n",
    "\n",
    "# Usage\n",
    "intervals = [[1, 3], [2, 6], [8, 10], [15, 18]]\n",
    "print(merge_intervals(intervals))  # Output: [[1, 6], [8, 10], [15, 18]]\n"
   ]
  },
  {
   "cell_type": "markdown",
   "metadata": {},
   "source": [
    "### 8. Missing Number\n",
    "Question: Given an array containing n distinct numbers taken from 0, 1, 2, ..., n, find the missing number."
   ]
  },
  {
   "cell_type": "code",
   "execution_count": null,
   "metadata": {},
   "outputs": [],
   "source": [
    "def missing_number(nums):\n",
    "    n = len(nums)\n",
    "    total_sum = n * (n + 1) // 2\n",
    "    return total_sum - sum(nums)\n",
    "\n",
    "# Usage\n",
    "nums = [3, 0, 1]\n",
    "print(missing_number(nums))  # Output: 2\n"
   ]
  },
  {
   "cell_type": "markdown",
   "metadata": {},
   "source": [
    "### 9. Intersection of Two Arrays\n",
    "Question: Given two arrays, find the intersection of their elements."
   ]
  },
  {
   "cell_type": "code",
   "execution_count": null,
   "metadata": {},
   "outputs": [],
   "source": [
    "def intersect(nums1, nums2):\n",
    "    count = collections.Counter(nums1)\n",
    "    intersection = [num for num in nums2 if count[num] > 0]\n",
    "    count.subtract(intersection)\n",
    "    return intersection\n",
    "\n",
    "# Usage\n",
    "nums1 = [1, 2, 2, 1]\n",
    "nums2 = [2, 2]\n",
    "print(intersect(nums1, nums2))  # Output: [2, 2]"
   ]
  },
  {
   "cell_type": "markdown",
   "metadata": {},
   "source": [
    "### 10. Maximize Distance to Closest Person\n",
    "Question: You are given a binary array representing a row of seats, where 0 indicates an empty seat and 1 indicates an occupied seat. Find the maximum distance you can sit from the closest person."
   ]
  },
  {
   "cell_type": "code",
   "execution_count": null,
   "metadata": {},
   "outputs": [],
   "source": [
    "def max_dist_to_closest(seats):\n",
    "    max_distance = 0\n",
    "    prev = -1\n",
    "    n = len(seats)\n",
    "    \n",
    "    for i in range(n):\n",
    "        if seats[i] == 1:\n",
    "            if prev == -1:\n",
    "                max_distance = i\n",
    "            else:\n",
    "                max_distance = max(max_distance, (i - prev) // 2)\n",
    "            prev = i\n",
    "    \n",
    "    max_distance = max(max_distance, n - 1 - prev)\n",
    "    return max_distance\n",
    "\n",
    "# Usage\n",
    "seats = [1, 0, 0, 0, 1, 0, 1]\n",
    "print(max_dist_to_closest(seats))  # Output: 2\n"
   ]
  }
 ],
 "metadata": {
  "kernelspec": {
   "display_name": "Python 3",
   "language": "python",
   "name": "python3"
  },
  "language_info": {
   "codemirror_mode": {
    "name": "ipython",
    "version": 3
   },
   "file_extension": ".py",
   "mimetype": "text/x-python",
   "name": "python",
   "nbconvert_exporter": "python",
   "pygments_lexer": "ipython3",
   "version": "3.12.3"
  }
 },
 "nbformat": 4,
 "nbformat_minor": 2
}
