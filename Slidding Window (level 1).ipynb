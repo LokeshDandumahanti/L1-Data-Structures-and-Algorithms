{
 "cells": [
  {
   "cell_type": "markdown",
   "metadata": {},
   "source": [
    "# Sliding Window\n"
   ]
  },
  {
   "cell_type": "markdown",
   "metadata": {},
   "source": [
    "### 1. Maximum Sum of a Subarray of Size k\n",
    "Question: Given an array of integers and a number k, find the maximum sum of any contiguous subarray of size k."
   ]
  },
  {
   "cell_type": "code",
   "execution_count": 1,
   "metadata": {},
   "outputs": [
    {
     "name": "stdout",
     "output_type": "stream",
     "text": [
      "12\n"
     ]
    }
   ],
   "source": [
    "def max_sum_subarray(arr, k):\n",
    "    n = len(arr)\n",
    "    if n < k:\n",
    "        return 0\n",
    "    max_sum = current_sum = sum(arr[:k])\n",
    "    for i in range(k, n):\n",
    "        current_sum += arr[i] - arr[i - k]\n",
    "        max_sum = max(max_sum, current_sum)\n",
    "    return max_sum\n",
    "\n",
    "# Usage\n",
    "arr = [1, 2, 3, 4, 5]\n",
    "k = 3\n",
    "print(max_sum_subarray(arr, k))  # Output: 12 (sum of [3, 4, 5])\n"
   ]
  },
  {
   "cell_type": "markdown",
   "metadata": {},
   "source": [
    "### 2. Longest Substring Without Repeating Characters\n",
    "Question: Given a string, find the length of the longest substring without repeating characters."
   ]
  },
  {
   "cell_type": "code",
   "execution_count": null,
   "metadata": {},
   "outputs": [],
   "source": [
    "def length_of_longest_substring(s):\n",
    "    char_map = {}\n",
    "    left = max_length = 0\n",
    "    for right in range(len(s)):\n",
    "        if s[right] in char_map:\n",
    "            left = max(left, char_map[s[right]] + 1)\n",
    "        char_map[s[right]] = right\n",
    "        max_length = max(max_length, right - left + 1)\n",
    "    return max_length\n",
    "\n",
    "# Usage\n",
    "s = \"abcabcbb\"\n",
    "print(length_of_longest_substring(s))  # Output: 3 (substring \"abc\")\n"
   ]
  },
  {
   "cell_type": "markdown",
   "metadata": {},
   "source": [
    "### 3. Minimum Window Substring\n",
    "Question: Given two strings s and t, find the minimum window in s that contains all characters of t."
   ]
  },
  {
   "cell_type": "code",
   "execution_count": 3,
   "metadata": {},
   "outputs": [],
   "source": [
    "from collections import Counter\n",
    "\n",
    "def min_window_substring(s, t):\n",
    "    if not s or not t:\n",
    "        return \"\"\n",
    "    t_count = Counter(t)\n",
    "    s_count = Counter()\n",
    "    left = right = 0\n",
    "    min_length = float('inf')\n",
    "    min_window = \"\"\n",
    "    required = len(t_count)\n",
    "    formed = 0\n",
    "\n",
    "    while right < len(s):\n",
    "        char = s[right]\n",
    "        s_count[char] += 1\n",
    "        if char in t_count and s_count[char] == t_count[char]:\n",
    "            formed += 1\n",
    "\n",
    "        while left <= right and formed == required:\n",
    "            char = s[left]\n",
    "            if right - left + 1 < min_length:\n",
    "                min_length = right - left + 1\n",
    "                min_window = s[left:right + 1]\n",
    "            s_count[char] -= 1\n",
    "            if char in t_count and s_count[char] < t_count[char]:\n",
    "                formed -= 1\n",
    "            left += 1\n",
    "        \n",
    "        right += 1\n",
    "    \n",
    "    return min_window"
   ]
  },
  {
   "cell_type": "code",
   "execution_count": 4,
   "metadata": {},
   "outputs": [
    {
     "name": "stdout",
     "output_type": "stream",
     "text": [
      "BANC\n"
     ]
    }
   ],
   "source": [
    "# Usage\n",
    "s = \"ADOBECODEBANC\"\n",
    "t = \"ABC\"\n",
    "print(min_window_substring(s, t))  # Output: \"BANC\""
   ]
  },
  {
   "cell_type": "markdown",
   "metadata": {},
   "source": [
    "### 4. Longest Substring with At Most K Distinct Characters\n",
    "Question: Given a string and an integer k, find the length of the longest substring that contains at most k distinct characters."
   ]
  },
  {
   "cell_type": "code",
   "execution_count": null,
   "metadata": {},
   "outputs": [],
   "source": [
    "def longest_substring_k_distinct(s, k):\n",
    "    char_map = {}\n",
    "    left = max_length = 0\n",
    "    for right in range(len(s)):\n",
    "        char_map[s[right]] = char_map.get(s[right], 0) + 1\n",
    "        while len(char_map) > k:\n",
    "            char_map[s[left]] -= 1\n",
    "            if char_map[s[left]] == 0:\n",
    "                del char_map[s[left]]\n",
    "            left += 1\n",
    "        max_length = max(max_length, right - left + 1)\n",
    "    return max_length\n",
    "\n",
    "# Usage\n",
    "s = \"eceba\"\n",
    "k = 2\n",
    "print(longest_substring_k_distinct(s, k))  # Output: 3 (substring \"ece\")\n"
   ]
  },
  {
   "cell_type": "markdown",
   "metadata": {},
   "source": [
    "### 5. Longest Repeating Character Replacement\n",
    "Question: Given a string and an integer k, find the length of the longest substring that can be obtained by replacing at most k characters."
   ]
  },
  {
   "cell_type": "code",
   "execution_count": null,
   "metadata": {},
   "outputs": [],
   "source": [
    "def character_replacement(s, k):\n",
    "    char_count = {}\n",
    "    left = max_length = 0\n",
    "    max_count = 0\n",
    "\n",
    "    for right in range(len(s)):\n",
    "        char_count[s[right]] = char_count.get(s[right], 0) + 1\n",
    "        max_count = max(max_count, char_count[s[right]])\n",
    "\n",
    "        while (right - left + 1) - max_count > k:\n",
    "            char_count[s[left]] -= 1\n",
    "            left += 1\n",
    "\n",
    "        max_length = max(max_length, right - left + 1)\n",
    "\n",
    "    return max_length\n",
    "\n",
    "# Usage\n",
    "s = \"ABAB\"\n",
    "k = 2\n",
    "print(character_replacement(s, k))  # Output: 4 (substring \"ABAB\")\n"
   ]
  },
  {
   "cell_type": "markdown",
   "metadata": {},
   "source": [
    "### 6. Maximum Product Subarray\n",
    "Question: Given an array of integers, find the maximum product of any contiguous subarray."
   ]
  },
  {
   "cell_type": "code",
   "execution_count": 5,
   "metadata": {},
   "outputs": [],
   "source": [
    "def max_product_subarray(nums):\n",
    "    if not nums:\n",
    "        return 0\n",
    "    max_product = min_product = result = nums[0]\n",
    "    for num in nums[1:]:\n",
    "        if num < 0:\n",
    "            max_product, min_product = min_product, max_product\n",
    "        max_product = max(num, num * max_product)\n",
    "        min_product = min(num, num * min_product)\n",
    "        result = max(result, max_product)\n",
    "    return result"
   ]
  },
  {
   "cell_type": "code",
   "execution_count": 6,
   "metadata": {},
   "outputs": [
    {
     "name": "stdout",
     "output_type": "stream",
     "text": [
      "6\n"
     ]
    }
   ],
   "source": [
    "# Usage\n",
    "nums = [2, 3, -2, 4]\n",
    "print(max_product_subarray(nums))  # Output: 6 (subarray [2, 3])"
   ]
  },
  {
   "cell_type": "markdown",
   "metadata": {},
   "source": [
    "### "
   ]
  }
 ],
 "metadata": {
  "kernelspec": {
   "display_name": "Python 3",
   "language": "python",
   "name": "python3"
  },
  "language_info": {
   "codemirror_mode": {
    "name": "ipython",
    "version": 3
   },
   "file_extension": ".py",
   "mimetype": "text/x-python",
   "name": "python",
   "nbconvert_exporter": "python",
   "pygments_lexer": "ipython3",
   "version": "3.12.3"
  }
 },
 "nbformat": 4,
 "nbformat_minor": 2
}
